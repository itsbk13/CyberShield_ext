{
 "cells": [
  {
   "cell_type": "code",
   "execution_count": 3,
   "id": "ee102541-d7b0-4538-a0e5-4fe7503f43cd",
   "metadata": {},
   "outputs": [
    {
     "name": "stdout",
     "output_type": "stream",
     "text": [
      "Phishing sample:\n",
      "                                                 URL Label\n",
      "0  nobell.it/70ffb52d079109dca5664cce6f317373782/...   bad\n",
      "1  www.dghjdgf.com/paypal.co.uk/cycgi-bin/webscrc...   bad\n",
      "2  serviciosbys.com/paypal.cgi.bin.get-into.herf....   bad\n",
      "3  mail.printakid.com/www.online.americanexpress....   bad\n",
      "4  thewhiskeydregs.com/wp-content/themes/widescre...   bad\n",
      "\n",
      "Train Transaction sample:\n",
      "   TransactionID  isFraud  TransactionDT  TransactionAmt ProductCD  card1  \\\n",
      "0        2987000        0          86400            68.5         W  13926   \n",
      "1        2987001        0          86401            29.0         W   2755   \n",
      "2        2987002        0          86469            59.0         W   4663   \n",
      "3        2987003        0          86499            50.0         W  18132   \n",
      "4        2987004        0          86506            50.0         H   4497   \n",
      "\n",
      "   card2  card3       card4  card5  ... V330  V331  V332  V333  V334 V335  \\\n",
      "0    NaN  150.0    discover  142.0  ...  NaN   NaN   NaN   NaN   NaN  NaN   \n",
      "1  404.0  150.0  mastercard  102.0  ...  NaN   NaN   NaN   NaN   NaN  NaN   \n",
      "2  490.0  150.0        visa  166.0  ...  NaN   NaN   NaN   NaN   NaN  NaN   \n",
      "3  567.0  150.0  mastercard  117.0  ...  NaN   NaN   NaN   NaN   NaN  NaN   \n",
      "4  514.0  150.0  mastercard  102.0  ...  0.0   0.0   0.0   0.0   0.0  0.0   \n",
      "\n",
      "   V336  V337  V338  V339  \n",
      "0   NaN   NaN   NaN   NaN  \n",
      "1   NaN   NaN   NaN   NaN  \n",
      "2   NaN   NaN   NaN   NaN  \n",
      "3   NaN   NaN   NaN   NaN  \n",
      "4   0.0   0.0   0.0   0.0  \n",
      "\n",
      "[5 rows x 394 columns]\n",
      "\n",
      "Train Identity sample:\n",
      "   TransactionID  id_01     id_02  id_03  id_04  id_05  id_06  id_07  id_08  \\\n",
      "0        2987004    0.0   70787.0    NaN    NaN    NaN    NaN    NaN    NaN   \n",
      "1        2987008   -5.0   98945.0    NaN    NaN    0.0   -5.0    NaN    NaN   \n",
      "2        2987010   -5.0  191631.0    0.0    0.0    0.0    0.0    NaN    NaN   \n",
      "3        2987011   -5.0  221832.0    NaN    NaN    0.0   -6.0    NaN    NaN   \n",
      "4        2987016    0.0    7460.0    0.0    0.0    1.0    0.0    NaN    NaN   \n",
      "\n",
      "   id_09  ...                id_31  id_32      id_33           id_34  id_35  \\\n",
      "0    NaN  ...  samsung browser 6.2   32.0  2220x1080  match_status:2      T   \n",
      "1    NaN  ...   mobile safari 11.0   32.0   1334x750  match_status:1      T   \n",
      "2    0.0  ...          chrome 62.0    NaN        NaN             NaN      F   \n",
      "3    NaN  ...          chrome 62.0    NaN        NaN             NaN      F   \n",
      "4    0.0  ...          chrome 62.0   24.0   1280x800  match_status:2      T   \n",
      "\n",
      "  id_36 id_37  id_38  DeviceType                     DeviceInfo  \n",
      "0     F     T      T      mobile  SAMSUNG SM-G892A Build/NRD90M  \n",
      "1     F     F      T      mobile                     iOS Device  \n",
      "2     F     T      T     desktop                        Windows  \n",
      "3     F     T      T     desktop                            NaN  \n",
      "4     F     T      T     desktop                          MacOS  \n",
      "\n",
      "[5 rows x 41 columns]\n"
     ]
    }
   ],
   "source": [
    "import pandas as pd\n",
    "\n",
    "folder = \"Datasets/\"\n",
    "\n",
    "print(\"Phishing sample:\")\n",
    "print(pd.read_csv(folder + \"phishing_site_urls.csv\", nrows=5))\n",
    "\n",
    "print(\"\\nTrain Transaction sample:\")\n",
    "print(pd.read_csv(folder + \"train_transaction.csv\", nrows=5))\n",
    "\n",
    "print(\"\\nTrain Identity sample:\")\n",
    "print(pd.read_csv(folder + \"train_identity.csv\", nrows=5))"
   ]
  },
  {
   "cell_type": "code",
   "execution_count": 5,
   "id": "61ed7718-09c2-4c87-9942-c89dcd5289ee",
   "metadata": {},
   "outputs": [
    {
     "name": "stdout",
     "output_type": "stream",
     "text": [
      "Training phishing model...\n",
      "Phishing accuracy: 0.94\n",
      "Phishing model saved!\n",
      "Training fraud model...\n",
      "Fraud accuracy: 0.96\n",
      "Fraud model saved!\n"
     ]
    }
   ],
   "source": [
    "import pandas as pd\n",
    "from sklearn.model_selection import train_test_split\n",
    "from sklearn.linear_model import LogisticRegression\n",
    "from sklearn.feature_extraction.text import TfidfVectorizer\n",
    "import joblib\n",
    "\n",
    "folder = \"Datasets/\"\n",
    "\n",
    "# Phishing model\n",
    "print(\"Training phishing model...\")\n",
    "df = pd.read_csv(folder + \"phishing_site_urls.csv\")\n",
    "urls = df[\"URL\"]\n",
    "labels = df[\"Label\"].map({\"good\": 0, \"bad\": 1})\n",
    "vectorizer = TfidfVectorizer(max_features=5000)\n",
    "X = vectorizer.fit_transform(urls)\n",
    "y = labels\n",
    "X_train, X_test, y_train, y_test = train_test_split(X, y, test_size=0.2, random_state=42)\n",
    "phishing_model = LogisticRegression(max_iter=1000)\n",
    "phishing_model.fit(X_train, y_train)\n",
    "accuracy = phishing_model.score(X_test, y_test)\n",
    "print(f\"Phishing accuracy: {accuracy:.2f}\")\n",
    "joblib.dump(phishing_model, \"phishing_model.pkl\")\n",
    "joblib.dump(vectorizer, \"phishing_vectorizer.pkl\")\n",
    "print(\"Phishing model saved!\")\n",
    "\n",
    "# Fraud model\n",
    "print(\"Training fraud model...\")\n",
    "df_trans = pd.read_csv(folder + \"train_transaction.csv\")\n",
    "df_id = pd.read_csv(folder + \"train_identity.csv\")\n",
    "df = df_trans.merge(df_id, on=\"TransactionID\", how=\"left\")\n",
    "features = [\"TransactionAmt\", \"card4\", \"P_emaildomain\", \"DeviceType\"]\n",
    "X = pd.get_dummies(df[features], columns=[\"card4\", \"P_emaildomain\", \"DeviceType\"], dummy_na=True)\n",
    "X = X.fillna(X.mean())\n",
    "y = df[\"isFraud\"]\n",
    "X_train, X_test, y_train, y_test = train_test_split(X, y, test_size=0.2, random_state=42)\n",
    "fraud_model = LogisticRegression(max_iter=1000)\n",
    "fraud_model.fit(X_train, y_train)\n",
    "fraud_model.feature_names_in_ = X_train.columns\n",
    "accuracy = fraud_model.score(X_test, y_test)\n",
    "print(f\"Fraud accuracy: {accuracy:.2f}\")\n",
    "joblib.dump(fraud_model, \"ieee_fraud_model.pkl\")\n",
    "print(\"Fraud model saved!\")"
   ]
  },
  {
   "cell_type": "code",
   "execution_count": 7,
   "id": "9d2a9cfa-0179-4da5-84f0-6d018d05502b",
   "metadata": {},
   "outputs": [
    {
     "name": "stdout",
     "output_type": "stream",
     "text": [
      "Phishing model trained on: 5000 features\n",
      "Fraud model trained on: 69 features\n"
     ]
    }
   ],
   "source": [
    "import joblib\n",
    "\n",
    "phishing_model = joblib.load(\"phishing_model.pkl\")\n",
    "vectorizer = joblib.load(\"phishing_vectorizer.pkl\")\n",
    "fraud_model = joblib.load(\"ieee_fraud_model.pkl\")\n",
    "\n",
    "print(\"Phishing model trained on:\", phishing_model.n_features_in_, \"features\")\n",
    "print(\"Fraud model trained on:\", fraud_model.n_features_in_, \"features\")"
   ]
  },
  {
   "cell_type": "code",
   "execution_count": 9,
   "id": "3ead1ee2-6820-415a-bc63-c941a2a86c34",
   "metadata": {},
   "outputs": [
    {
     "name": "stdout",
     "output_type": "stream",
     "text": [
      "Phishing rows: 549346\n",
      "Transaction rows: 590540\n",
      "Identity rows: 144233\n"
     ]
    }
   ],
   "source": [
    "import pandas as pd\n",
    "\n",
    "folder = \"Datasets/\"\n",
    "phishing = pd.read_csv(folder + \"phishing_site_urls.csv\")\n",
    "trans = pd.read_csv(folder + \"train_transaction.csv\")\n",
    "ident = pd.read_csv(folder + \"train_identity.csv\")\n",
    "\n",
    "print(\"Phishing rows:\", len(phishing))\n",
    "print(\"Transaction rows:\", len(trans))\n",
    "print(\"Identity rows:\", len(ident))"
   ]
  }
 ],
 "metadata": {
  "kernelspec": {
   "display_name": "Python 3 (ipykernel)",
   "language": "python",
   "name": "python3"
  },
  "language_info": {
   "codemirror_mode": {
    "name": "ipython",
    "version": 3
   },
   "file_extension": ".py",
   "mimetype": "text/x-python",
   "name": "python",
   "nbconvert_exporter": "python",
   "pygments_lexer": "ipython3",
   "version": "3.12.4"
  }
 },
 "nbformat": 4,
 "nbformat_minor": 5
}
